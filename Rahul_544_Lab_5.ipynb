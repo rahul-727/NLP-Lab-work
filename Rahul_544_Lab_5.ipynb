{
  "cells": [
    {
      "cell_type": "markdown",
      "metadata": {
        "id": "view-in-github",
        "colab_type": "text"
      },
      "source": [
        "<a href=\"https://colab.research.google.com/github/rahul-727/NLP-Lab-work/blob/main/Rahul_544_Lab_5.ipynb\" target=\"_parent\"><img src=\"https://colab.research.google.com/assets/colab-badge.svg\" alt=\"Open In Colab\"/></a>"
      ]
    },
    {
      "cell_type": "markdown",
      "metadata": {
        "id": "Hx1tPvQH3Gp8"
      },
      "source": [
        "# 1. Write a program to get Antonyms from WordNet."
      ]
    },
    {
      "cell_type": "code",
      "execution_count": 2,
      "metadata": {
        "colab": {
          "base_uri": "https://localhost:8080/"
        },
        "id": "uH-VVvUk3BRy",
        "outputId": "11b145ba-d0a7-4cdb-98fc-47ec31f83847"
      },
      "outputs": [
        {
          "output_type": "stream",
          "name": "stderr",
          "text": [
            "[nltk_data] Downloading package wordnet to /root/nltk_data...\n",
            "[nltk_data] Downloading package omw-1.4 to /root/nltk_data...\n"
          ]
        },
        {
          "output_type": "execute_result",
          "data": {
            "text/plain": [
              "True"
            ]
          },
          "metadata": {},
          "execution_count": 2
        }
      ],
      "source": [
        "import nltk\n",
        "nltk.download('wordnet')\n",
        "nltk.download('omw-1.4')"
      ]
    },
    {
      "cell_type": "code",
      "execution_count": 3,
      "metadata": {
        "colab": {
          "base_uri": "https://localhost:8080/"
        },
        "id": "p03Rd6HJ3PUt",
        "outputId": "ef1fbf9e-cada-428e-e054-272c36911944"
      },
      "outputs": [
        {
          "output_type": "stream",
          "name": "stdout",
          "text": [
            "Antonyms of 'good': ['evil', 'badness', 'bad', 'ill', 'evilness']\n",
            "Antonyms of 'hot': ['cold']\n",
            "Antonyms of 'increase': ['decrease', 'decrement']\n",
            "Antonyms of 'early': ['middle', 'late']\n",
            "Antonyms of 'fast': ['slow']\n"
          ]
        }
      ],
      "source": [
        "from nltk.corpus import wordnet as wn\n",
        "\n",
        "def get_antonyms(word):\n",
        "    antonyms = set()\n",
        "    for syn in wn.synsets(word):\n",
        "        for lemma in syn.lemmas():\n",
        "            if lemma.antonyms():\n",
        "                antonyms.update([antonym.name() for antonym in lemma.antonyms()])\n",
        "    return list(antonyms)\n",
        "\n",
        "words = [\"good\", \"hot\", \"increase\", \"early\", \"fast\"]\n",
        "\n",
        "for word in words:\n",
        "    antonyms = get_antonyms(word)\n",
        "    print(f\"Antonyms of '{word}':\", antonyms)\n"
      ]
    },
    {
      "cell_type": "markdown",
      "metadata": {
        "id": "TTWxq_wF4ifR"
      },
      "source": [
        "# 2. Write a program for stemming non-English words.\n",
        "Stemming is the process of reducing a word to its base or root form. The NLTK library offers stemming capabilities for English words, but for non-English words, you might need to use specific stemmers designed for those languages. One of the libraries that support multiple languages is SnowballStemmer, which is part of NLTK and can stem words in several languages including Spanish, French, German, and more."
      ]
    },
    {
      "cell_type": "code",
      "execution_count": 4,
      "metadata": {
        "colab": {
          "base_uri": "https://localhost:8080/"
        },
        "id": "Ig_Zbao54mcp",
        "outputId": "a8582d34-098b-4e7b-d07e-cae3246973cb"
      },
      "outputs": [
        {
          "output_type": "stream",
          "name": "stdout",
          "text": [
            "Original: corriendo, Stemmed: corr\n",
            "Original: comer, Stemmed: com\n",
            "Original: gatos, Stemmed: gat\n",
            "Original: bibliotecas, Stemmed: bibliotec\n",
            "Original: universidades, Stemmed: univers\n"
          ]
        }
      ],
      "source": [
        "from nltk.stem import SnowballStemmer\n",
        "\n",
        "language = \"spanish\"\n",
        "words = [\"corriendo\", \"comer\", \"gatos\", \"bibliotecas\", \"universidades\"]\n",
        "\n",
        "stemmer = SnowballStemmer(language)\n",
        "\n",
        "stemmed_words = [stemmer.stem(word) for word in words]\n",
        "\n",
        "for original, stemmed in zip(words, stemmed_words):\n",
        "    print(f\"Original: {original}, Stemmed: {stemmed}\")\n"
      ]
    },
    {
      "cell_type": "markdown",
      "metadata": {
        "id": "g-U1Kk0V46za"
      },
      "source": [
        "# 3. Write a program for lemmatizing words Using WordNet (Use all type of stemmers for the comparison).\n",
        "\n",
        "Lemmatization is the process of grouping together the different inflected forms of a word so they can be analyzed as a single item, identified by the word's lemma, or dictionary form. Unlike stemming, lemmatization depends on correctly identifying the intended part of speech and meaning of a word in a sentence, as well as within the larger context surrounding that sentence, such as neighboring sentences or even an entire document."
      ]
    },
    {
      "cell_type": "code",
      "execution_count": 5,
      "metadata": {
        "colab": {
          "base_uri": "https://localhost:8080/"
        },
        "id": "51Df0qXh46__",
        "outputId": "669c3064-215e-498d-ad16-73363601c506"
      },
      "outputs": [
        {
          "output_type": "stream",
          "name": "stderr",
          "text": [
            "[nltk_data] Downloading package wordnet to /root/nltk_data...\n",
            "[nltk_data]   Package wordnet is already up-to-date!\n",
            "[nltk_data] Downloading package omw-1.4 to /root/nltk_data...\n",
            "[nltk_data]   Package omw-1.4 is already up-to-date!\n",
            "[nltk_data] Downloading package punkt to /root/nltk_data...\n",
            "[nltk_data]   Unzipping tokenizers/punkt.zip.\n",
            "[nltk_data] Downloading package averaged_perceptron_tagger to\n",
            "[nltk_data]     /root/nltk_data...\n",
            "[nltk_data]   Unzipping taggers/averaged_perceptron_tagger.zip.\n"
          ]
        },
        {
          "output_type": "stream",
          "name": "stdout",
          "text": [
            "Original: running\n",
            "Lemmatized: run\n",
            "Porter Stemmed: run\n",
            "Lancaster Stemmed: run\n",
            "Snowball Stemmed: run\n",
            "------\n",
            "Original: easily\n",
            "Lemmatized: easily\n",
            "Porter Stemmed: easili\n",
            "Lancaster Stemmed: easy\n",
            "Snowball Stemmed: easili\n",
            "------\n",
            "Original: greater\n",
            "Lemmatized: great\n",
            "Porter Stemmed: greater\n",
            "Lancaster Stemmed: gre\n",
            "Snowball Stemmed: greater\n",
            "------\n",
            "Original: driven\n",
            "Lemmatized: driven\n",
            "Porter Stemmed: driven\n",
            "Lancaster Stemmed: driv\n",
            "Snowball Stemmed: driven\n",
            "------\n",
            "Original: programming\n",
            "Lemmatized: program\n",
            "Porter Stemmed: program\n",
            "Lancaster Stemmed: program\n",
            "Snowball Stemmed: program\n",
            "------\n"
          ]
        }
      ],
      "source": [
        "from nltk.stem import WordNetLemmatizer, PorterStemmer, LancasterStemmer, SnowballStemmer\n",
        "from nltk.corpus import wordnet\n",
        "import nltk\n",
        "\n",
        "nltk.download('wordnet')\n",
        "nltk.download('omw-1.4')\n",
        "nltk.download('punkt')\n",
        "nltk.download('averaged_perceptron_tagger')\n",
        "\n",
        "lemmatizer = WordNetLemmatizer()\n",
        "porter = PorterStemmer()\n",
        "lancaster = LancasterStemmer()\n",
        "snowball = SnowballStemmer(language='english')\n",
        "\n",
        "words = [\"running\", \"easily\", \"greater\", \"driven\", \"programming\"]\n",
        "\n",
        "def get_wordnet_pos(treebank_tag):\n",
        "    if treebank_tag.startswith('J'):\n",
        "        return wordnet.ADJ\n",
        "    elif treebank_tag.startswith('V'):\n",
        "        return wordnet.VERB\n",
        "    elif treebank_tag.startswith('N'):\n",
        "        return wordnet.NOUN\n",
        "    elif treebank_tag.startswith('R'):\n",
        "        return wordnet.ADV\n",
        "    else:\n",
        "        return None\n",
        "\n",
        "for word in words:\n",
        "    pos_tag = nltk.pos_tag([word])[0][1]\n",
        "    wordnet_pos = get_wordnet_pos(pos_tag) or wordnet.NOUN\n",
        "\n",
        "    lemmatized = lemmatizer.lemmatize(word, pos=wordnet_pos)\n",
        "\n",
        "    porter_stemmed = porter.stem(word)\n",
        "    lancaster_stemmed = lancaster.stem(word)\n",
        "    snowball_stemmed = snowball.stem(word)\n",
        "\n",
        "    print(f\"Original: {word}\")\n",
        "    print(f\"Lemmatized: {lemmatized}\")\n",
        "    print(f\"Porter Stemmed: {porter_stemmed}\")\n",
        "    print(f\"Lancaster Stemmed: {lancaster_stemmed}\")\n",
        "    print(f\"Snowball Stemmed: {snowball_stemmed}\")\n",
        "    print(\"------\")\n"
      ]
    },
    {
      "cell_type": "markdown",
      "metadata": {
        "id": "XfxDNDxr7De_"
      },
      "source": [
        "# 4. Write a program to differentiate stemming and lemmatizing words."
      ]
    },
    {
      "cell_type": "code",
      "execution_count": 6,
      "metadata": {
        "colab": {
          "base_uri": "https://localhost:8080/"
        },
        "id": "BQUSq_Ur7FoL",
        "outputId": "e933b44e-2391-4c0c-f556-83831e4c729e"
      },
      "outputs": [
        {
          "output_type": "stream",
          "name": "stdout",
          "text": [
            "Original: running\n",
            "Stemmed: run\n",
            "Lemmatized: run\n",
            "\n",
            "Original: flies\n",
            "Stemmed: fli\n",
            "Lemmatized: fly\n",
            "\n",
            "Original: mice\n",
            "Stemmed: mice\n",
            "Lemmatized: mouse\n",
            "\n",
            "Original: easily\n",
            "Stemmed: easili\n",
            "Lemmatized: easily\n",
            "\n",
            "Original: worst\n",
            "Stemmed: worst\n",
            "Lemmatized: bad\n",
            "\n"
          ]
        },
        {
          "output_type": "stream",
          "name": "stderr",
          "text": [
            "[nltk_data] Downloading package wordnet to /root/nltk_data...\n",
            "[nltk_data]   Package wordnet is already up-to-date!\n",
            "[nltk_data] Downloading package omw-1.4 to /root/nltk_data...\n",
            "[nltk_data]   Package omw-1.4 is already up-to-date!\n",
            "[nltk_data] Downloading package punkt to /root/nltk_data...\n",
            "[nltk_data]   Package punkt is already up-to-date!\n",
            "[nltk_data] Downloading package averaged_perceptron_tagger to\n",
            "[nltk_data]     /root/nltk_data...\n",
            "[nltk_data]   Package averaged_perceptron_tagger is already up-to-\n",
            "[nltk_data]       date!\n"
          ]
        }
      ],
      "source": [
        "import nltk\n",
        "from nltk.stem import WordNetLemmatizer, PorterStemmer\n",
        "from nltk.corpus import wordnet\n",
        "nltk.download('wordnet')\n",
        "nltk.download('omw-1.4')\n",
        "nltk.download('punkt')\n",
        "nltk.download('averaged_perceptron_tagger')\n",
        "\n",
        "porter = PorterStemmer()\n",
        "lemmatizer = WordNetLemmatizer()\n",
        "\n",
        "words = [\"running\", \"flies\", \"mice\", \"easily\", \"worst\"]\n",
        "\n",
        "def get_wordnet_pos(nltk_tag):\n",
        "    if nltk_tag.startswith('J'):\n",
        "        return wordnet.ADJ\n",
        "    elif nltk_tag.startswith('V'):\n",
        "        return wordnet.VERB\n",
        "    elif nltk_tag.startswith('N'):\n",
        "        return wordnet.NOUN\n",
        "    elif nltk_tag.startswith('R'):\n",
        "        return wordnet.ADV\n",
        "    else:\n",
        "        return None\n",
        "\n",
        "for word in words:\n",
        "    nltk_pos = nltk.pos_tag([word])[0][1]\n",
        "    wordnet_pos = get_wordnet_pos(nltk_pos) or wordnet.NOUN\n",
        "\n",
        "    lemmatized = lemmatizer.lemmatize(word, pos=wordnet_pos)\n",
        "\n",
        "    stemmed = porter.stem(word)\n",
        "\n",
        "    print(f\"Original: {word}\")\n",
        "    print(f\"Stemmed: {stemmed}\")\n",
        "    print(f\"Lemmatized: {lemmatized}\\n\")"
      ]
    },
    {
      "cell_type": "markdown",
      "metadata": {
        "id": "L4ehuG507WxA"
      },
      "source": [
        "# 5. Write a program for PoS Tagging and also execute any of the tool that given in class."
      ]
    },
    {
      "cell_type": "code",
      "execution_count": 7,
      "metadata": {
        "colab": {
          "base_uri": "https://localhost:8080/"
        },
        "id": "peaBDHPH7X77",
        "outputId": "f32931a4-22ea-498d-eff8-1b2faeb5541f"
      },
      "outputs": [
        {
          "output_type": "stream",
          "name": "stderr",
          "text": [
            "[nltk_data] Downloading package punkt to /root/nltk_data...\n",
            "[nltk_data]   Package punkt is already up-to-date!\n",
            "[nltk_data] Downloading package averaged_perceptron_tagger to\n",
            "[nltk_data]     /root/nltk_data...\n",
            "[nltk_data]   Package averaged_perceptron_tagger is already up-to-\n",
            "[nltk_data]       date!\n",
            "[nltk_data] Downloading package tagsets to /root/nltk_data...\n",
            "[nltk_data]   Unzipping help/tagsets.zip.\n"
          ]
        },
        {
          "output_type": "execute_result",
          "data": {
            "text/plain": [
              "True"
            ]
          },
          "metadata": {},
          "execution_count": 7
        }
      ],
      "source": [
        "nltk.download('punkt')\n",
        "nltk.download('averaged_perceptron_tagger')\n",
        "nltk.download('tagsets')"
      ]
    },
    {
      "cell_type": "code",
      "execution_count": 8,
      "metadata": {
        "colab": {
          "base_uri": "https://localhost:8080/",
          "height": 563
        },
        "id": "GcioQbfP78nG",
        "outputId": "7005ef42-fd40-434a-dcef-b540828a986c"
      },
      "outputs": [
        {
          "output_type": "stream",
          "name": "stdout",
          "text": [
            "Tagged Tokens:\n",
            "[('I', 'PRP'), ('enjoy', 'VBP'), ('exploring', 'VBG'), ('new', 'JJ'), ('technologies', 'NNS'), ('and', 'CC'), ('applying', 'VBG'), ('them', 'PRP'), ('to', 'TO'), ('solve', 'VB'), ('real-world', 'JJ'), ('problems', 'NNS'), ('.', '.'), ('Lately', 'RB'), (',', ','), ('I', 'PRP'), ('have', 'VBP'), ('been', 'VBN'), ('learning', 'VBG'), ('more', 'RBR'), ('about', 'IN'), ('natural', 'JJ'), ('language', 'NN'), ('processing', 'NN'), ('and', 'CC'), ('its', 'PRP$'), ('applications', 'NNS'), ('.', '.'), ('This', 'DT'), ('has', 'VBZ'), ('led', 'VBN'), ('me', 'PRP'), ('to', 'TO'), ('experiment', 'VB'), ('with', 'IN'), ('various', 'JJ'), ('NLP', 'NNP'), ('tools', 'NNS'), ('and', 'CC'), ('libraries', 'NNS'), ('.', '.')]\n"
          ]
        },
        {
          "output_type": "display_data",
          "data": {
            "text/plain": [
              "<Figure size 1000x500 with 1 Axes>"
            ],
            "image/png": "[encoded data removed]"
          },
          "metadata": {}
        }
      ],
      "source": [
        "from collections import Counter\n",
        "import matplotlib.pyplot as plt\n",
        "\n",
        "my_corpus = \"\"\"\n",
        "I enjoy exploring new technologies and applying them to solve real-world problems.\n",
        "Lately, I have been learning more about natural language processing and its applications.\n",
        "This has led me to experiment with various NLP tools and libraries.\n",
        "\"\"\"\n",
        "\n",
        "tokens = nltk.word_tokenize(my_corpus)\n",
        "\n",
        "tagged_tokens = nltk.pos_tag(tokens)\n",
        "\n",
        "tag_freq = Counter(tag for (word, tag) in tagged_tokens)\n",
        "\n",
        "print(\"Tagged Tokens:\")\n",
        "print(tagged_tokens)\n",
        "\n",
        "plt.figure(figsize=(10, 5))\n",
        "plt.bar(tag_freq.keys(), tag_freq.values())\n",
        "plt.xlabel('Parts of Speech')\n",
        "plt.ylabel('Frequency')\n",
        "plt.title('Frequency of Parts of Speech in My Corpus')\n",
        "plt.xticks(rotation=45)\n",
        "plt.show()\n"
      ]
    },
    {
      "cell_type": "markdown",
      "metadata": {
        "id": "CgtZ9Ely8K3f"
      },
      "source": [
        "# 6. Write a program to identify the Named Entity Recognition and also execute any of the tool that given in class.\n",
        "Named Entity Recognition (NER) is a process in Natural Language Processing (NLP) that identifies named entities in text, such as the names of people, places, organizations, dates, etc. For this example, I'll show you how to perform NER using the nltk library, which is a popular choice for introductory NLP tasks, and then how to visualize the entities using the simple visualization capabilities of matplotlib."
      ]
    },
    {
      "cell_type": "code",
      "execution_count": 9,
      "metadata": {
        "colab": {
          "base_uri": "https://localhost:8080/"
        },
        "id": "HKRwKOUU8Nif",
        "outputId": "ad6ce627-a565-48a4-dc02-037e3f96c011"
      },
      "outputs": [
        {
          "output_type": "stream",
          "name": "stderr",
          "text": [
            "[nltk_data] Downloading package punkt to /root/nltk_data...\n",
            "[nltk_data]   Package punkt is already up-to-date!\n",
            "[nltk_data] Downloading package averaged_perceptron_tagger to\n",
            "[nltk_data]     /root/nltk_data...\n",
            "[nltk_data]   Package averaged_perceptron_tagger is already up-to-\n",
            "[nltk_data]       date!\n",
            "[nltk_data] Downloading package maxent_ne_chunker to\n",
            "[nltk_data]     /root/nltk_data...\n",
            "[nltk_data]   Unzipping chunkers/maxent_ne_chunker.zip.\n",
            "[nltk_data] Downloading package words to /root/nltk_data...\n",
            "[nltk_data]   Unzipping corpora/words.zip.\n"
          ]
        },
        {
          "output_type": "execute_result",
          "data": {
            "text/plain": [
              "True"
            ]
          },
          "metadata": {},
          "execution_count": 9
        }
      ],
      "source": [
        "nltk.download('punkt')\n",
        "nltk.download('averaged_perceptron_tagger')\n",
        "nltk.download('maxent_ne_chunker')\n",
        "nltk.download('words')"
      ]
    },
    {
      "cell_type": "code",
      "execution_count": 10,
      "metadata": {
        "colab": {
          "base_uri": "https://localhost:8080/",
          "height": 410
        },
        "id": "dmZsZ-zY8mTO",
        "outputId": "969a4e41-164a-48d5-951b-c2f4b1956c18"
      },
      "outputs": [
        {
          "output_type": "display_data",
          "data": {
            "text/plain": [
              "<Figure size 800x400 with 1 Axes>"
            ],
            "image/png": "[encoded data removed]"
          },
          "metadata": {}
        }
      ],
      "source": [
        "import nltk\n",
        "from collections import defaultdict\n",
        "import matplotlib.pyplot as plt\n",
        "\n",
        "def plot_entity_distribution(entities):\n",
        "    entity_types = defaultdict(int)\n",
        "\n",
        "    for entity in entities:\n",
        "        if isinstance(entity, nltk.Tree):\n",
        "            entity_type = entity.label()\n",
        "            entity_types[entity_type] += 1\n",
        "\n",
        "    plt.figure(figsize=(8, 4))\n",
        "    plt.bar(entity_types.keys(), entity_types.values(), color='skyblue')\n",
        "    plt.xlabel('Entity Types')\n",
        "    plt.ylabel('Frequency')\n",
        "    plt.title('Named Entity Distribution')\n",
        "    plt.show()\n",
        "\n",
        "text = \"\"\"\n",
        "Apple Inc. is an American multinational technology company headquartered in Cupertino, California.\n",
        "It was founded by Steve Jobs, Steve Wozniak, and Ronald Wayne in April 1976.\n",
        "It is considered one of the Big Tech technology companies.\n",
        "\"\"\"\n",
        "\n",
        "tokens = nltk.word_tokenize(text)\n",
        "tagged = nltk.pos_tag(tokens)\n",
        "\n",
        "entities = nltk.ne_chunk(tagged)\n",
        "\n",
        "plot_entity_distribution(entities)\n"
      ]
    },
    {
      "cell_type": "markdown",
      "metadata": {
        "id": "YjSbG-8m88-K"
      },
      "source": [
        "# 7. Implement the Dependency Parsing and Constituency Parsing using the tool.\n"
      ]
    },
    {
      "cell_type": "markdown",
      "metadata": {
        "id": "tcgV5Hfe-DwC"
      },
      "source": [
        "Dependency Parsing"
      ]
    },
    {
      "cell_type": "code",
      "execution_count": 11,
      "metadata": {
        "colab": {
          "base_uri": "https://localhost:8080/",
          "height": 673
        },
        "id": "YkOKy3eV8-sm",
        "outputId": "4ea2a8e7-1185-4b62-9692-06b4d51381e4"
      },
      "outputs": [
        {
          "output_type": "stream",
          "name": "stderr",
          "text": [
            "/usr/local/lib/python3.10/dist-packages/spacy/displacy/__init__.py:106: UserWarning: [W011] It looks like you're calling displacy.serve from within a Jupyter notebook or a similar environment. This likely means you're already running a local web server, so there's no need to make displaCy start another one. Instead, you should be able to replace displacy.serve with displacy.render to show the visualization.\n",
            "  warnings.warn(Warnings.W011)\n"
          ]
        },
        {
          "output_type": "display_data",
          "data": {
            "text/plain": [
              "<IPython.core.display.HTML object>"
            ],
            "text/html": [
              "<span class=\"tex2jax_ignore\"><!DOCTYPE html>\n",
              "<html lang=\"en\">\n",
              "    <head>\n",
              "        <title>displaCy</title>\n",
              "    </head>\n",
              "\n",
              "    <body style=\"font-size: 16px; font-family: -apple-system, BlinkMacSystemFont, 'Segoe UI', Helvetica, Arial, sans-serif, 'Apple Color Emoji', 'Segoe UI Emoji', 'Segoe UI Symbol'; padding: 4rem 2rem; direction: ltr\">\n",
              "<figure style=\"margin-bottom: 6rem\">\n",
              "<svg xmlns=\"http://www.w3.org/2000/svg\" xmlns:xlink=\"http://www.w3.org/1999/xlink\" xml:lang=\"en\" id=\"643cd9fdf82043f08c3c3aa75b30130c-0\" class=\"displacy\" width=\"1275\" height=\"399.5\" direction=\"ltr\" style=\"max-width: none; height: 399.5px; color: #000000; background: #ffffff; font-family: Arial; direction: ltr\">\n",
              "<text class=\"displacy-token\" fill=\"currentColor\" text-anchor=\"middle\" y=\"309.5\">\n",
              "    <tspan class=\"displacy-word\" fill=\"currentColor\" x=\"50\">Autonomous</tspan>\n",
              "    <tspan class=\"displacy-tag\" dy=\"2em\" fill=\"currentColor\" x=\"50\">ADJ</tspan>\n",
              "</text>\n",
              "\n",
              "<text class=\"displacy-token\" fill=\"currentColor\" text-anchor=\"middle\" y=\"309.5\">\n",
              "    <tspan class=\"displacy-word\" fill=\"currentColor\" x=\"225\">cars</tspan>\n",
              "    <tspan class=\"displacy-tag\" dy=\"2em\" fill=\"currentColor\" x=\"225\">NOUN</tspan>\n",
              "</text>\n",
              "\n",
              "<text class=\"displacy-token\" fill=\"currentColor\" text-anchor=\"middle\" y=\"309.5\">\n",
              "    <tspan class=\"displacy-word\" fill=\"currentColor\" x=\"400\">shift</tspan>\n",
              "    <tspan class=\"displacy-tag\" dy=\"2em\" fill=\"currentColor\" x=\"400\">VERB</tspan>\n",
              "</text>\n",
              "\n",
              "<text class=\"displacy-token\" fill=\"currentColor\" text-anchor=\"middle\" y=\"309.5\">\n",
              "    <tspan class=\"displacy-word\" fill=\"currentColor\" x=\"575\">insurance</tspan>\n",
              "    <tspan class=\"displacy-tag\" dy=\"2em\" fill=\"currentColor\" x=\"575\">NOUN</tspan>\n",
              "</text>\n",
              "\n",
              "<text class=\"displacy-token\" fill=\"currentColor\" text-anchor=\"middle\" y=\"309.5\">\n",
              "    <tspan class=\"displacy-word\" fill=\"currentColor\" x=\"750\">liability</tspan>\n",
              "    <tspan class=\"displacy-tag\" dy=\"2em\" fill=\"currentColor\" x=\"750\">NOUN</tspan>\n",
              "</text>\n",
              "\n",
              "<text class=\"displacy-token\" fill=\"currentColor\" text-anchor=\"middle\" y=\"309.5\">\n",
              "    <tspan class=\"displacy-word\" fill=\"currentColor\" x=\"925\">toward</tspan>\n",
              "    <tspan class=\"displacy-tag\" dy=\"2em\" fill=\"currentColor\" x=\"925\">ADP</tspan>\n",
              "</text>\n",
              "\n",
              "<text class=\"displacy-token\" fill=\"currentColor\" text-anchor=\"middle\" y=\"309.5\">\n",
              "    <tspan class=\"displacy-word\" fill=\"currentColor\" x=\"1100\">manufacturers.</tspan>\n",
              "    <tspan class=\"displacy-tag\" dy=\"2em\" fill=\"currentColor\" x=\"1100\">NOUN</tspan>\n",
              "</text>\n",
              "\n",
              "<g class=\"displacy-arrow\">\n",
              "    <path class=\"displacy-arc\" id=\"arrow-643cd9fdf82043f08c3c3aa75b30130c-0-0\" stroke-width=\"2px\" d=\"M70,264.5 C70,177.0 215.0,177.0 215.0,264.5\" fill=\"none\" stroke=\"currentColor\"/>\n",
              "    <text dy=\"1.25em\" style=\"font-size: 0.8em; letter-spacing: 1px\">\n",
              "        <textPath xlink:href=\"#arrow-643cd9fdf82043f08c3c3aa75b30130c-0-0\" class=\"displacy-label\" startOffset=\"50%\" side=\"left\" fill=\"currentColor\" text-anchor=\"middle\">amod</textPath>\n",
              "    </text>\n",
              "    <path class=\"displacy-arrowhead\" d=\"M70,266.5 L62,254.5 78,254.5\" fill=\"currentColor\"/>\n",
              "</g>\n",
              "\n",
              "<g class=\"displacy-arrow\">\n",
              "    <path class=\"displacy-arc\" id=\"arrow-643cd9fdf82043f08c3c3aa75b30130c-0-1\" stroke-width=\"2px\" d=\"M245,264.5 C245,177.0 390.0,177.0 390.0,264.5\" fill=\"none\" stroke=\"currentColor\"/>\n",
              "    <text dy=\"1.25em\" style=\"font-size: 0.8em; letter-spacing: 1px\">\n",
              "        <textPath xlink:href=\"#arrow-643cd9fdf82043f08c3c3aa75b30130c-0-1\" class=\"displacy-label\" startOffset=\"50%\" side=\"left\" fill=\"currentColor\" text-anchor=\"middle\">nsubj</textPath>\n",
              "    </text>\n",
              "    <path class=\"displacy-arrowhead\" d=\"M245,266.5 L237,254.5 253,254.5\" fill=\"currentColor\"/>\n",
              "</g>\n",
              "\n",
              "<g class=\"displacy-arrow\">\n",
              "    <path class=\"displacy-arc\" id=\"arrow-643cd9fdf82043f08c3c3aa75b30130c-0-2\" stroke-width=\"2px\" d=\"M595,264.5 C595,177.0 740.0,177.0 740.0,264.5\" fill=\"none\" stroke=\"currentColor\"/>\n",
              "    <text dy=\"1.25em\" style=\"font-size: 0.8em; letter-spacing: 1px\">\n",
              "        <textPath xlink:href=\"#arrow-643cd9fdf82043f08c3c3aa75b30130c-0-2\" class=\"displacy-label\" startOffset=\"50%\" side=\"left\" fill=\"currentColor\" text-anchor=\"middle\">compound</textPath>\n",
              "    </text>\n",
              "    <path class=\"displacy-arrowhead\" d=\"M595,266.5 L587,254.5 603,254.5\" fill=\"currentColor\"/>\n",
              "</g>\n",
              "\n",
              "<g class=\"displacy-arrow\">\n",
              "    <path class=\"displacy-arc\" id=\"arrow-643cd9fdf82043f08c3c3aa75b30130c-0-3\" stroke-width=\"2px\" d=\"M420,264.5 C420,89.5 745.0,89.5 745.0,264.5\" fill=\"none\" stroke=\"currentColor\"/>\n",
              "    <text dy=\"1.25em\" style=\"font-size: 0.8em; letter-spacing: 1px\">\n",
              "        <textPath xlink:href=\"#arrow-643cd9fdf82043f08c3c3aa75b30130c-0-3\" class=\"displacy-label\" startOffset=\"50%\" side=\"left\" fill=\"currentColor\" text-anchor=\"middle\">dobj</textPath>\n",
              "    </text>\n",
              "    <path class=\"displacy-arrowhead\" d=\"M745.0,266.5 L753.0,254.5 737.0,254.5\" fill=\"currentColor\"/>\n",
              "</g>\n",
              "\n",
              "<g class=\"displacy-arrow\">\n",
              "    <path class=\"displacy-arc\" id=\"arrow-643cd9fdf82043f08c3c3aa75b30130c-0-4\" stroke-width=\"2px\" d=\"M420,264.5 C420,2.0 925.0,2.0 925.0,264.5\" fill=\"none\" stroke=\"currentColor\"/>\n",
              "    <text dy=\"1.25em\" style=\"font-size: 0.8em; letter-spacing: 1px\">\n",
              "        <textPath xlink:href=\"#arrow-643cd9fdf82043f08c3c3aa75b30130c-0-4\" class=\"displacy-label\" startOffset=\"50%\" side=\"left\" fill=\"currentColor\" text-anchor=\"middle\">prep</textPath>\n",
              "    </text>\n",
              "    <path class=\"displacy-arrowhead\" d=\"M925.0,266.5 L933.0,254.5 917.0,254.5\" fill=\"currentColor\"/>\n",
              "</g>\n",
              "\n",
              "<g class=\"displacy-arrow\">\n",
              "    <path class=\"displacy-arc\" id=\"arrow-643cd9fdf82043f08c3c3aa75b30130c-0-5\" stroke-width=\"2px\" d=\"M945,264.5 C945,177.0 1090.0,177.0 1090.0,264.5\" fill=\"none\" stroke=\"currentColor\"/>\n",
              "    <text dy=\"1.25em\" style=\"font-size: 0.8em; letter-spacing: 1px\">\n",
              "        <textPath xlink:href=\"#arrow-643cd9fdf82043f08c3c3aa75b30130c-0-5\" class=\"displacy-label\" startOffset=\"50%\" side=\"left\" fill=\"currentColor\" text-anchor=\"middle\">pobj</textPath>\n",
              "    </text>\n",
              "    <path class=\"displacy-arrowhead\" d=\"M1090.0,266.5 L1098.0,254.5 1082.0,254.5\" fill=\"currentColor\"/>\n",
              "</g>\n",
              "</svg>\n",
              "</figure>\n",
              "</body>\n",
              "</html></span>"
            ]
          },
          "metadata": {}
        },
        {
          "output_type": "stream",
          "name": "stdout",
          "text": [
            "\n",
            "Using the 'dep' visualizer\n",
            "Serving on http://0.0.0.0:5000 ...\n",
            "\n",
            "Shutting down server on port 5000.\n"
          ]
        }
      ],
      "source": [
        "import spacy\n",
        "from spacy import displacy\n",
        "\n",
        "nlp = spacy.load(\"en_core_web_sm\")\n",
        "\n",
        "sentence = \"Autonomous cars shift insurance liability toward manufacturers.\"\n",
        "doc = nlp(sentence)\n",
        "\n",
        "displacy.serve(doc, style=\"dep\")\n"
      ]
    },
    {
      "cell_type": "markdown",
      "metadata": {
        "id": "SeKrxfXV-WDb"
      },
      "source": [
        "Constituency Parsing ![Screenshot 2024-03-19 153357.png](data:image/png;base64,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)"
      ]
    }
  ],
  "metadata": {
    "colab": {
      "provenance": [],
      "authorship_tag": "ABX9TyPbtDj9KGH1yqUwSOT2lQ6g",
      "include_colab_link": true
    },
    "kernelspec": {
      "display_name": "Python 3",
      "name": "python3"
    },
    "language_info": {
      "name": "python"
    }
  },
  "nbformat": 4,
  "nbformat_minor": 0
}