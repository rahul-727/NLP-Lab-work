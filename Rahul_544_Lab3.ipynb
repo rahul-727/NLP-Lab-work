{
  "nbformat": 4,
  "nbformat_minor": 0,
  "metadata": {
    "colab": {
      "provenance": [],
      "authorship_tag": "ABX9TyNNcPI3/6fzdU50OmBIROLy",
      "include_colab_link": true
    },
    "kernelspec": {
      "name": "python3",
      "display_name": "Python 3"
    },
    "language_info": {
      "name": "python"
    }
  },
  "cells": [
    {
      "cell_type": "markdown",
      "metadata": {
        "id": "view-in-github",
        "colab_type": "text"
      },
      "source": [
        "<a href=\"https://colab.research.google.com/github/rahul-727/NLP-Lab-work/blob/main/Rahul_544_Lab3.ipynb\" target=\"_parent\"><img src=\"https://colab.research.google.com/assets/colab-badge.svg\" alt=\"Open In Colab\"/></a>"
      ]
    },
    {
      "cell_type": "code",
      "source": [
        "import spacy\n",
        "from nltk.tokenize import word_tokenize, sent_tokenize\n",
        "import nltk\n",
        "nltk.download('punkt')"
      ],
      "metadata": {
        "colab": {
          "base_uri": "https://localhost:8080/"
        },
        "id": "SKK0Ci6DQ0o9",
        "outputId": "50379a3a-14fe-4dda-8ac9-4204509a3c38"
      },
      "execution_count": 5,
      "outputs": [
        {
          "output_type": "stream",
          "name": "stderr",
          "text": [
            "[nltk_data] Downloading package punkt to /root/nltk_data...\n",
            "[nltk_data]   Package punkt is already up-to-date!\n"
          ]
        },
        {
          "output_type": "execute_result",
          "data": {
            "text/plain": [
              "True"
            ]
          },
          "metadata": {},
          "execution_count": 5
        }
      ]
    },
    {
      "cell_type": "code",
      "execution_count": 7,
      "metadata": {
        "colab": {
          "base_uri": "https://localhost:8080/"
        },
        "id": "50VmZhJoJei5",
        "outputId": "2e25f2c2-5182-413c-987d-2f038d6580f9"
      },
      "outputs": [
        {
          "output_type": "stream",
          "name": "stdout",
          "text": [
            "Malayalam Sentences: ['ഗ്രഹണം ബാധിച്ചാലും അതിനൊരു സമയമുണ്ട്.', 'സൂര്യന്\\u200d ആ കറുത്ത മറ നീക്കി പുറത്ത് വരും, അത് പോലെ തന്നെയാണ് സത്യവും മൂടി വെയ്ക്കാം വളച്ചൊടിക്കാം, പക്ഷേ ഒരുനാള്\\u200d ഒരിടത്ത് മറനീക്കി പുറത്ത് വരും മിസ്റ്റര്\\u200d സുപ്രീംടെന്റന്റ് ഓഫ് പോലീസ്.']\n",
            "Malayalam Words: [['ഗ്രഹണം', 'ബാധിച്ചാലും', 'അതിനൊരു', 'സമയമുണ്ട്', '.'], ['സൂര്യന്\\u200d', 'ആ', 'കറുത്ത', 'മറ', 'നീക്കി', 'പുറത്ത്', 'വരും', ',', 'അത്', 'പോലെ', 'തന്നെയാണ്', 'സത്യവും', 'മൂടി', 'വെയ്ക്കാം', 'വളച്ചൊടിക്കാം', ',', 'പക്ഷേ', 'ഒരുനാള്\\u200d', 'ഒരിടത്ത്', 'മറനീക്കി', 'പുറത്ത്', 'വരും', 'മിസ്റ്റര്\\u200d', 'സുപ്രീംടെന്റന്റ്', 'ഓഫ്', 'പോലീസ്', '.']]\n",
            "\n",
            "Spanish Sentences: ['En España, el español es el idioma principal.', 'Es un idioma muy hermoso.']\n",
            "Spanish Words: [['En', 'España', ',', 'el', 'español', 'es', 'el', 'idioma', 'principal', '.'], ['Es', 'un', 'idioma', 'muy', 'hermoso', '.']]\n"
          ]
        }
      ],
      "source": [
        "malayalam_text = \"ഗ്രഹണം ബാധിച്ചാലും അതിനൊരു സമയമുണ്ട്. സൂര്യന്‍ ആ കറുത്ത മറ നീക്കി പുറത്ത് വരും, അത് പോലെ തന്നെയാണ് സത്യവും മൂടി വെയ്ക്കാം വളച്ചൊടിക്കാം, പക്ഷേ ഒരുനാള്‍ ഒരിടത്ത് മറനീക്കി പുറത്ത് വരും മിസ്റ്റര്‍ സുപ്രീംടെന്റന്റ് ഓഫ് പോലീസ്.\"\n",
        "spanish_text = \"En España, el español es el idioma principal. Es un idioma muy hermoso.\"\n",
        "\n",
        "def tokenize_text(text, language='english'):\n",
        "    sentences = sent_tokenize(text, language=language)\n",
        "    words = [word_tokenize(sent, language=language) for sent in sentences]\n",
        "    return sentences, words\n",
        "\n",
        "mal_sentences, mal_words = tokenize_text(malayalam_text, language='english')\n",
        "print(\"Malayalam Sentences:\", mal_sentences)\n",
        "print(\"Malayalam Words:\", mal_words)\n",
        "\n",
        "span_sentences, span_words = tokenize_text(spanish_text, language='spanish')\n",
        "print(\"\\nSpanish Sentences:\", span_sentences)\n",
        "print(\"Spanish Words:\", span_words)\n"
      ]
    }
  ]
}